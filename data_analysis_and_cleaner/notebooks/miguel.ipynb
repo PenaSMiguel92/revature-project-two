{
 "cells": [
  {
   "cell_type": "code",
   "execution_count": 11,
   "metadata": {},
   "outputs": [],
   "source": [
    "from pathlib import Path\n",
    "from datetime import date\n",
    "import os\n",
    "import load_csv\n",
    "data_frame = load_csv.load(\"data/clean_data.csv\")\n",
    "context = load_csv.getContext()"
   ]
  },
  {
   "cell_type": "code",
   "execution_count": 12,
   "metadata": {},
   "outputs": [
    {
     "name": "stdout",
     "output_type": "stream",
     "text": [
      "+--------------------+----------------+-----------------+----------+--------------------+-------------------+----------------+---+------+----------+--------------------+----------------+----------------------+----------------+-------------------+\n",
      "|            order_id|     customer_id|    customer_name|product_id|        product_name|   product_category|    payment_type|qty| price|  datetime|             country|            city|ecommerce_website_name|  payment_txn_id|payment_txn_success|\n",
      "+--------------------+----------------+-----------------+----------+--------------------+-------------------+----------------+---+------+----------+--------------------+----------------+----------------------+----------------+-------------------+\n",
      "|2NEBnZETy1FdFpKJf...|wEwuo1GDdnbC8ju5|   STEPHEN THOMAS|     14315|ESR Boost Kicksta...|tv, audio & cameras|             UPI|  3| 25.19|2022-05-19|       United States|       Blackhawk|       www.wayfair.com|XXFqXfizoOtsQ0S1|                  Y|\n",
      "|cs4mesS4QiKWwWzUM...|JOFjKzEEv8vZfe0S|  BRENDA WILLIAMS|    249150|rts High-Speed HD...|tv, audio & cameras|             UPI|  4| 59.99|2023-06-15|       United States|   Lake Barcroft|       www.walmart.com|3uUjFXw7A9OE8tKW|                  Y|\n",
      "|nvcusihP3X9ZgNrIH...|0UOpKAwfMMT3WTQV|  BENJAMIN CARTER|    428081|MTR MT901 Wireles...|tv, audio & cameras|             UPI|  6| 17.99|2023-09-11|                Iraq|           Dahūk|        www.costco.com|S4aAAuYTEIDuCy28|                  Y|\n",
      "|5p5wm49pAGCFzao0F...|93VkwydO4IGW5fGH|   MATTHEW MORRIS|    154729|Gadgetsden Belly ...|        accessories|Internet Banking|  1| 13.19|2022-09-25|South Georgia And...|       Grytviken|        www.amazon.com|Ye1aNYUZvVBTqLjR|                  Y|\n",
      "|XxwesrYdt0P2kyV0q...|Ycpefw74l4S1Pkua|    WILLIAM YOUNG|    383478|SG Musical - 1 Se...|              music|Internet Banking|  9|  8.39|2024-06-15|                Mali|        Yélimané|         www.apple.com|HWhdEikEpUHFSP63|                  Y|\n",
      "|IKsP5pduQp4BrEvh7...|AEX1VzOO9xwQBpyd|   AARON CAMPBELL|     98457|crocs Classic Pla...|        men's shoes|          Wallet|  7| 35.94|2022-02-14|             Ukraine|           Odesa|       www.wayfair.com|qLkO1rB7gRJd7vkg|                  Y|\n",
      "|EwqzAZb4TJVEwGrLP...|KKIEbF8f5L2c40oX|  MARGARET WRIGHT|    226126|Flexnest Flexdubs...|tv, audio & cameras|            Card|  5|119.99|2023-06-08|           Argentina|            Vera|        www.amazon.com|l3ZxQygynQCmojpm|                  Y|\n",
      "|IpIAhYCoJ18Y7UXWo...|kjAfoH2FHtcUYrQg|       EMILY RUIZ|     66743|Neewer 200mm Prof...|tv, audio & cameras|             UPI|  5| 114.0|2024-03-09|               China|          Guilin|         www.apple.com|EKazhEV03dRfh0Bt|                  Y|\n",
      "|epwT0CXqsvBorzxnr...|lT12Od32Yv0eOXNH|        GARY LONG|    442211|Puma Unisex-Adult...|        men's shoes|             UPI|  4| 59.99|2024-05-08|       United States|       Warrenton|         www.apple.com|BHDQBVI4Trg53QXI|                  Y|\n",
      "|DKbVsJsOnnEScTJmu...|ksACeqaniPeZ4CRZ|  SAMANTHA THOMAS|    129488|RIBRONA Women's D...|   women's clothing|             UPI|  3| 11.99|2023-09-14|           Australia|         Grafton|       www.wayfair.com|BiYY6bLOCZwly417|                  Y|\n",
      "|NhWR2oKIEEmuz3Cj4...|2KNuyibokxgV8uhr|       GARY LOPEZ|    156861|YouBella Jeweller...|        accessories|Internet Banking|  6| 14.39|2024-07-15|            Honduras|Ciudad Choluteca|        www.costco.com|XaxbuolmJ7oQRfT9|                  Y|\n",
      "|aQFjVPUTO8PgTo3CY...|0Lxe2cDh4IKyBXrr|     RONALD BAKER|    312327|BARMUNDA gems 7.2...|        accessories|          Wallet|  6|  18.0|2024-02-15|               Gabon|           Gamba|          www.ebay.com|EMEJIt7HxCKXQlaF|                  Y|\n",
      "|ePKrTjelZi69YETKl...|dJvv8B0kI8A65mDB|    KEVIN STEWART|    417874|      Nike Men Shirt|     men's clothing|            Card|  7| 41.94|2022-09-06|       United States|        Longmont|        www.amazon.com|BZaPrPYitaz2ydkB|                  Y|\n",
      "|KSQB5buKz4Fv5MtB5...|K3AaZTSPh0EBLcff|  NICHOLAS WILSON|    342483|Amante Print Low ...|   women's clothing|          Wallet|  6|  7.14|2022-02-06|              Mexico| San Luis Potosí|          www.ebay.com|pVgTVrj0yzqVCrW5|                  Y|\n",
      "|3ZIEZtJVPr8pbMe4n...|ZKdjg0IrgjoCvpqy|   KATHLEEN GOMEZ|    312648|El Regalo 2 PCs H...|        accessories|Internet Banking|  4| 11.99|2023-10-07|              Russia|    Zelënodol’sk|          www.ebay.com|YIlzwfmOVvVm3tjL|                  Y|\n",
      "|MHKbv34Ow4tfBRcG3...|5ttuhjWhQAbfpzLS|       CAROL COOK|     66743|Neewer 200mm Prof...|tv, audio & cameras|             UPI|  1| 114.0|2022-02-24|              Russia|    Zelënodol’sk|         www.apple.com|6o2K5n8BLto8rJ9b|                  Y|\n",
      "|H6IdXYd7dCNCoTBRZ...|qB7hDLjcnllmCZoQ|BENJAMIN PETERSON|    159655|Atasi Internation...|        accessories|          Wallet|  6| 23.99|2022-10-13|       United States|         Maywood|        www.amazon.com|gjz9FVZ7eaX3ZTQ3|                  Y|\n",
      "|BwIAlkzbTbaquQKOI...|qKEtTdS8cOD003mo|   KATHLEEN KELLY|    373360|I A Chikan Pure C...|             stores|          Wallet|  4| 11.99|2022-08-03|               China|          Guilin|         www.apple.com|aLclZejndce1rUVQ|                  Y|\n",
      "|YcB1zsnFr7gkzxPUT...|gtJn0hmLS3GNFhZc|     REBECCA BELL|    522058|Indigo Women's Be...|   women's clothing|          Wallet|  1| 16.79|2022-02-06|             Finland|           Lahti|          www.ebay.com|jFZyZtJDH4W52UQE|                  Y|\n",
      "|DnzP9cFZ6PdiKJMO5...|cErpGNgZ0pDI9iEH|  NICOLE PHILLIPS|     78576|divinezon Polyest...|   sports & fitness|            Card|  3| 47.99|2023-11-12|              Russia|    Zelënodol’sk|        www.amazon.com|uqXHM3BwR2EjsB6h|                  Y|\n",
      "+--------------------+----------------+-----------------+----------+--------------------+-------------------+----------------+---+------+----------+--------------------+----------------+----------------------+----------------+-------------------+\n",
      "only showing top 20 rows\n",
      "\n"
     ]
    }
   ],
   "source": [
    "data_frame.show()"
   ]
  },
  {
   "cell_type": "code",
   "execution_count": 13,
   "metadata": {},
   "outputs": [],
   "source": [
    "data_frame.createOrReplaceTempView('orders')"
   ]
  },
  {
   "cell_type": "code",
   "execution_count": 22,
   "metadata": {},
   "outputs": [
    {
     "name": "stdout",
     "output_type": "stream",
     "text": [
      "+----------+--------------------+--------+\n",
      "|product_id|        product_name|sum(qty)|\n",
      "+----------+--------------------+--------+\n",
      "|     36887|myfriday women Sm...|     101|\n",
      "|    158671|Miss Jo 92.5 Ster...|      95|\n",
      "|    278753|GoSriKi Men's Cot...|      70|\n",
      "|    140136|Femezone Women's ...|      59|\n",
      "|     40496|STORE 2508 Frog E...|      73|\n",
      "|    262101|AASONS Multi Angl...|      23|\n",
      "|    276089|MALENO Men's Ther...|      33|\n",
      "|    216448|SPOTIC PU Synthet...|      24|\n",
      "|    435459|Campus Men's Vero...|      62|\n",
      "|    144801|BIBA Women's Cott...|     104|\n",
      "|    196178|Malabar Gold and ...|      35|\n",
      "|     56525|Just Herbs Retrac...|      23|\n",
      "|     44543|Caprese Womens Fa...|      19|\n",
      "|    158520|Yellow Chimes Ban...|      37|\n",
      "|    246735|SPIN CART 3.5mm t...|      17|\n",
      "|    312648|El Regalo 2 PCs H...|      76|\n",
      "|    382661|Navkar Crafts Uni...|      57|\n",
      "|    452883|Nike Men's Revolu...|      54|\n",
      "|    206703|Nelle Harper Wome...|      49|\n",
      "|    111463|XAWONA Women's Ne...|      35|\n",
      "+----------+--------------------+--------+\n",
      "only showing top 20 rows\n",
      "\n"
     ]
    }
   ],
   "source": [
    "# year_column = date_part(lit('YEAR'),'datetime').alias('year')\n",
    "# month_column = date_part(lit('month'),'datetime').alias('month')\n",
    "# day_column = date_part(lit('D'), 'datetime').alias('day')\n",
    "# data_frame = data_frame.withColumn('qty', col('qty').cast('integer'))\n",
    "# df_test = data_frame.select(data_frame.datetime, year_column, month_column, day_column, data_frame.country, data_frame.product_name, data_frame.qty)\n",
    "# products = data_frame.select()\n",
    "# df_test.groupBy('product_name').sum('qty').sort('country').show()\n",
    "# df_test.groupBy('country').agg({'qty':'sum'}).show()#ps_sum(data_frame.qty)).show()\n",
    "# df_test.groupBy(['year', 'month','product_name']).agg({'qty':'sum'}).show()\n",
    "# df_test.agg(countDistinct('product_name')).show()\n",
    "# df_test_2 = df_test.sort('datetime')\n",
    "# df_test_2.show()\n",
    "# df_test_2.agg()\n",
    "query = 'SELECT product_id, product_name, SUM(qty) FROM orders GROUP BY product_id, product_name'\n",
    "context.sql(query).show()\n"
   ]
  },
  {
   "cell_type": "code",
   "execution_count": null,
   "metadata": {},
   "outputs": [],
   "source": []
  },
  {
   "cell_type": "code",
   "execution_count": 61,
   "metadata": {},
   "outputs": [
    {
     "name": "stdout",
     "output_type": "stream",
     "text": [
      "/home/miguel674-rev/2009_Big_Data/project-2/Revature_Project_2/data_analysis_and_cleaner/notebooks/test\n"
     ]
    }
   ],
   "source": [
    "\n",
    "print(os.path.abspath('') + \"/test\")"
   ]
  },
  {
   "cell_type": "code",
   "execution_count": null,
   "metadata": {},
   "outputs": [],
   "source": []
  }
 ],
 "metadata": {
  "kernelspec": {
   "display_name": "base",
   "language": "python",
   "name": "python3"
  },
  "language_info": {
   "codemirror_mode": {
    "name": "ipython",
    "version": 3
   },
   "file_extension": ".py",
   "mimetype": "text/x-python",
   "name": "python",
   "nbconvert_exporter": "python",
   "pygments_lexer": "ipython3",
   "version": "3.10.12"
  }
 },
 "nbformat": 4,
 "nbformat_minor": 2
}
