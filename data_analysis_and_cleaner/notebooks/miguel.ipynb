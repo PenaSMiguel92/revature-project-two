{
 "cells": [
  {
   "cell_type": "code",
   "execution_count": 8,
   "metadata": {},
   "outputs": [
    {
     "ename": "AttributeError",
     "evalue": "module 'load_csv' has no attribute 'getContext'",
     "output_type": "error",
     "traceback": [
      "\u001b[0;31m---------------------------------------------------------------------------\u001b[0m",
      "\u001b[0;31mAttributeError\u001b[0m                            Traceback (most recent call last)",
      "Cell \u001b[0;32mIn[8], line 6\u001b[0m\n\u001b[1;32m      4\u001b[0m \u001b[38;5;28;01mimport\u001b[39;00m \u001b[38;5;21;01mload_csv\u001b[39;00m\n\u001b[1;32m      5\u001b[0m data_frame \u001b[38;5;241m=\u001b[39m load_csv\u001b[38;5;241m.\u001b[39mload(\u001b[38;5;124m\"\u001b[39m\u001b[38;5;124mdata/clean_data.csv\u001b[39m\u001b[38;5;124m\"\u001b[39m)\n\u001b[0;32m----> 6\u001b[0m context \u001b[38;5;241m=\u001b[39m \u001b[43mload_csv\u001b[49m\u001b[38;5;241;43m.\u001b[39;49m\u001b[43mgetContext\u001b[49m()\n",
      "\u001b[0;31mAttributeError\u001b[0m: module 'load_csv' has no attribute 'getContext'"
     ]
    }
   ],
   "source": [
    "from pathlib import Path\n",
    "from datetime import date\n",
    "import os\n",
    "import load_csv\n",
    "data_frame = load_csv.load(\"data/clean_data.csv\")\n",
    "context = load_csv.getContext()"
   ]
  },
  {
   "cell_type": "code",
   "execution_count": 2,
   "metadata": {},
   "outputs": [
    {
     "name": "stdout",
     "output_type": "stream",
     "text": [
      "+--------------------+----------------+-----------------+----------+--------------------+-------------------+----------------+---+------+----------+--------------------+----------------+----------------------+----------------+-------------------+\n",
      "|            order_id|     customer_id|    customer_name|product_id|        product_name|   product_category|    payment_type|qty| price|  datetime|             country|            city|ecommerce_website_name|  payment_txn_id|payment_txn_success|\n",
      "+--------------------+----------------+-----------------+----------+--------------------+-------------------+----------------+---+------+----------+--------------------+----------------+----------------------+----------------+-------------------+\n",
      "|2NEBnZETy1FdFpKJf...|wEwuo1GDdnbC8ju5|   STEPHEN THOMAS|     14315|ESR Boost Kicksta...|tv, audio & cameras|             UPI|  3| 25.19|2022-05-19|       United States|       Blackhawk|       www.wayfair.com|XXFqXfizoOtsQ0S1|                  Y|\n",
      "|cs4mesS4QiKWwWzUM...|JOFjKzEEv8vZfe0S|  BRENDA WILLIAMS|    249150|rts High-Speed HD...|tv, audio & cameras|             UPI|  4| 59.99|2023-06-15|       United States|   Lake Barcroft|       www.walmart.com|3uUjFXw7A9OE8tKW|                  Y|\n",
      "|nvcusihP3X9ZgNrIH...|0UOpKAwfMMT3WTQV|  BENJAMIN CARTER|    428081|MTR MT901 Wireles...|tv, audio & cameras|             UPI|  6| 17.99|2023-09-11|                Iraq|           Dahūk|        www.costco.com|S4aAAuYTEIDuCy28|                  Y|\n",
      "|5p5wm49pAGCFzao0F...|93VkwydO4IGW5fGH|   MATTHEW MORRIS|    154729|Gadgetsden Belly ...|        accessories|Internet Banking|  1| 13.19|2022-09-25|South Georgia And...|       Grytviken|        www.amazon.com|Ye1aNYUZvVBTqLjR|                  Y|\n",
      "|XxwesrYdt0P2kyV0q...|Ycpefw74l4S1Pkua|    WILLIAM YOUNG|    383478|SG Musical - 1 Se...|              music|Internet Banking|  9|  8.39|2024-06-15|                Mali|        Yélimané|         www.apple.com|HWhdEikEpUHFSP63|                  Y|\n",
      "|IKsP5pduQp4BrEvh7...|AEX1VzOO9xwQBpyd|   AARON CAMPBELL|     98457|crocs Classic Pla...|        men's shoes|          Wallet|  7| 35.94|2022-02-14|             Ukraine|           Odesa|       www.wayfair.com|qLkO1rB7gRJd7vkg|                  Y|\n",
      "|EwqzAZb4TJVEwGrLP...|KKIEbF8f5L2c40oX|  MARGARET WRIGHT|    226126|Flexnest Flexdubs...|tv, audio & cameras|            Card|  5|119.99|2023-06-08|           Argentina|            Vera|        www.amazon.com|l3ZxQygynQCmojpm|                  Y|\n",
      "|IpIAhYCoJ18Y7UXWo...|kjAfoH2FHtcUYrQg|       EMILY RUIZ|     66743|Neewer 200mm Prof...|tv, audio & cameras|             UPI|  5| 114.0|2024-03-09|               China|          Guilin|         www.apple.com|EKazhEV03dRfh0Bt|                  Y|\n",
      "|epwT0CXqsvBorzxnr...|lT12Od32Yv0eOXNH|        GARY LONG|    442211|Puma Unisex-Adult...|        men's shoes|             UPI|  4| 59.99|2024-05-08|       United States|       Warrenton|         www.apple.com|BHDQBVI4Trg53QXI|                  Y|\n",
      "|DKbVsJsOnnEScTJmu...|ksACeqaniPeZ4CRZ|  SAMANTHA THOMAS|    129488|RIBRONA Women's D...|   women's clothing|             UPI|  3| 11.99|2023-09-14|           Australia|         Grafton|       www.wayfair.com|BiYY6bLOCZwly417|                  Y|\n",
      "|NhWR2oKIEEmuz3Cj4...|2KNuyibokxgV8uhr|       GARY LOPEZ|    156861|YouBella Jeweller...|        accessories|Internet Banking|  6| 14.39|2024-07-15|            Honduras|Ciudad Choluteca|        www.costco.com|XaxbuolmJ7oQRfT9|                  Y|\n",
      "|aQFjVPUTO8PgTo3CY...|0Lxe2cDh4IKyBXrr|     RONALD BAKER|    312327|BARMUNDA gems 7.2...|        accessories|          Wallet|  6|  18.0|2024-02-15|               Gabon|           Gamba|          www.ebay.com|EMEJIt7HxCKXQlaF|                  Y|\n",
      "|ePKrTjelZi69YETKl...|dJvv8B0kI8A65mDB|    KEVIN STEWART|    417874|      Nike Men Shirt|     men's clothing|            Card|  7| 41.94|2022-09-06|       United States|        Longmont|        www.amazon.com|BZaPrPYitaz2ydkB|                  Y|\n",
      "|KSQB5buKz4Fv5MtB5...|K3AaZTSPh0EBLcff|  NICHOLAS WILSON|    342483|Amante Print Low ...|   women's clothing|          Wallet|  6|  7.14|2022-02-06|              Mexico| San Luis Potosí|          www.ebay.com|pVgTVrj0yzqVCrW5|                  Y|\n",
      "|3ZIEZtJVPr8pbMe4n...|ZKdjg0IrgjoCvpqy|   KATHLEEN GOMEZ|    312648|El Regalo 2 PCs H...|        accessories|Internet Banking|  4| 11.99|2023-10-07|              Russia|    Zelënodol’sk|          www.ebay.com|YIlzwfmOVvVm3tjL|                  Y|\n",
      "|MHKbv34Ow4tfBRcG3...|5ttuhjWhQAbfpzLS|       CAROL COOK|     66743|Neewer 200mm Prof...|tv, audio & cameras|             UPI|  1| 114.0|2022-02-24|              Russia|    Zelënodol’sk|         www.apple.com|6o2K5n8BLto8rJ9b|                  Y|\n",
      "|H6IdXYd7dCNCoTBRZ...|qB7hDLjcnllmCZoQ|BENJAMIN PETERSON|    159655|Atasi Internation...|        accessories|          Wallet|  6| 23.99|2022-10-13|       United States|         Maywood|        www.amazon.com|gjz9FVZ7eaX3ZTQ3|                  Y|\n",
      "|BwIAlkzbTbaquQKOI...|qKEtTdS8cOD003mo|   KATHLEEN KELLY|    373360|I A Chikan Pure C...|             stores|          Wallet|  4| 11.99|2022-08-03|               China|          Guilin|         www.apple.com|aLclZejndce1rUVQ|                  Y|\n",
      "|YcB1zsnFr7gkzxPUT...|gtJn0hmLS3GNFhZc|     REBECCA BELL|    522058|Indigo Women's Be...|   women's clothing|          Wallet|  1| 16.79|2022-02-06|             Finland|           Lahti|          www.ebay.com|jFZyZtJDH4W52UQE|                  Y|\n",
      "|DnzP9cFZ6PdiKJMO5...|cErpGNgZ0pDI9iEH|  NICOLE PHILLIPS|     78576|divinezon Polyest...|   sports & fitness|            Card|  3| 47.99|2023-11-12|              Russia|    Zelënodol’sk|        www.amazon.com|uqXHM3BwR2EjsB6h|                  Y|\n",
      "+--------------------+----------------+-----------------+----------+--------------------+-------------------+----------------+---+------+----------+--------------------+----------------+----------------------+----------------+-------------------+\n",
      "only showing top 20 rows\n",
      "\n"
     ]
    }
   ],
   "source": [
    "data_frame.show()"
   ]
  },
  {
   "cell_type": "code",
   "execution_count": null,
   "metadata": {},
   "outputs": [],
   "source": []
  },
  {
   "cell_type": "code",
   "execution_count": 21,
   "metadata": {},
   "outputs": [
    {
     "name": "stdout",
     "output_type": "stream",
     "text": [
      "+----+-----+--------------------+--------+\n",
      "|year|month|        product_name|sum(qty)|\n",
      "+----+-----+--------------------+--------+\n",
      "|2022|    9|HAP Men's Modern ...|      10|\n",
      "|2022|   12|Trendy Women's Co...|       6|\n",
      "|2022|    1|GenX Mens Jazz Pr...|       3|\n",
      "|2024|    5|OORA Men Running ...|       1|\n",
      "|2022|    8|Walkaroo Mens Wf6...|      12|\n",
      "|2023|    8|ZAPPER Silicone B...|      15|\n",
      "|2023|    8|tZaro Genuine Lea...|       8|\n",
      "|2022|    4|Aurelia Women's R...|       6|\n",
      "|2022|    9|JBL Partybox 110 ...|       5|\n",
      "|2022|    5|Bourge Mens Moda-...|       3|\n",
      "|2022|    8|LUX COTT'S Wool M...|       8|\n",
      "|2022|    3|Basilio Sliky Str...|       4|\n",
      "|2023|    2|M Men Style Biker...|       8|\n",
      "|2022|    7|FASHION VICTIM 10...|       7|\n",
      "|2023|   11|Michelangelo Silv...|       8|\n",
      "|2024|    5|Konvio Neer High ...|       2|\n",
      "|2023|    2|Ridhi and Sidhi W...|       5|\n",
      "|2022|    8|Aglance 7006 Flow...|      14|\n",
      "|2023|   10|PC Jeweller The E...|      15|\n",
      "|2023|   10|Brado Jewellery S...|       8|\n",
      "+----+-----+--------------------+--------+\n",
      "only showing top 20 rows\n",
      "\n",
      "+----------------------------+\n",
      "|count(DISTINCT product_name)|\n",
      "+----------------------------+\n",
      "|                         980|\n",
      "+----------------------------+\n",
      "\n"
     ]
    }
   ],
   "source": [
    "year_column = date_part(lit('YEAR'),'datetime').alias('year')\n",
    "month_column = date_part(lit('month'),'datetime').alias('month')\n",
    "day_column = date_part(lit('D'), 'datetime').alias('day')\n",
    "data_frame = data_frame.withColumn('qty', col('qty').cast('integer'))\n",
    "df_test = data_frame.select(data_frame.datetime, year_column, month_column, day_column, data_frame.country, data_frame.product_name, data_frame.qty)\n",
    "# products = data_frame.select()\n",
    "# df_test.groupBy('product_name').sum('qty').sort('country').show()\n",
    "# df_test.groupBy('country').agg({'qty':'sum'}).show()#ps_sum(data_frame.qty)).show()\n",
    "df_test.groupBy(['year', 'month','product_name']).agg({'qty':'sum'}).show()\n",
    "df_test.agg(countDistinct('product_name')).show()\n",
    "# df_test_2 = df_test.sort('datetime')\n",
    "# df_test_2.show()\n",
    "# df_test_2.agg()\n"
   ]
  },
  {
   "cell_type": "code",
   "execution_count": null,
   "metadata": {},
   "outputs": [],
   "source": []
  },
  {
   "cell_type": "code",
   "execution_count": 61,
   "metadata": {},
   "outputs": [
    {
     "name": "stdout",
     "output_type": "stream",
     "text": [
      "/home/miguel674-rev/2009_Big_Data/project-2/Revature_Project_2/data_analysis_and_cleaner/notebooks/test\n"
     ]
    }
   ],
   "source": [
    "\n",
    "print(os.path.abspath('') + \"/test\")"
   ]
  },
  {
   "cell_type": "code",
   "execution_count": null,
   "metadata": {},
   "outputs": [],
   "source": []
  }
 ],
 "metadata": {
  "kernelspec": {
   "display_name": "base",
   "language": "python",
   "name": "python3"
  },
  "language_info": {
   "codemirror_mode": {
    "name": "ipython",
    "version": 3
   },
   "file_extension": ".py",
   "mimetype": "text/x-python",
   "name": "python",
   "nbconvert_exporter": "python",
   "pygments_lexer": "ipython3",
   "version": "3.10.12"
  }
 },
 "nbformat": 4,
 "nbformat_minor": 2
}
