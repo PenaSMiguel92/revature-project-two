{
 "cells": [
  {
   "cell_type": "code",
   "execution_count": 25,
   "metadata": {},
   "outputs": [],
   "source": [
    "import sys\n",
    "import os\n",
    "path = os.path.abspath('')\n",
    "path = os.path.dirname(path)\n",
    "sys.path.insert(1, str(path))"
   ]
  },
  {
   "cell_type": "code",
   "execution_count": 26,
   "metadata": {},
   "outputs": [],
   "source": [
    "import load_csv\n",
    "import pandas\n",
    "from pyspark.sql import DataFrame,functions as f\n",
    "from pathlib import Path\n",
    "df = load_csv.load(\"data/clean_data.csv\")"
   ]
  },
  {
   "cell_type": "code",
   "execution_count": 31,
   "metadata": {},
   "outputs": [
    {
     "name": "stdout",
     "output_type": "stream",
     "text": [
      "+----------------+-------------+---------+-----------+\n",
      "|product_category|      country|unit_sold|total_sales|\n",
      "+----------------+-------------+---------+-----------+\n",
      "|     accessories|    Argentina|      135|   31495.98|\n",
      "|     accessories|    Australia|      218|    9236.72|\n",
      "|     accessories|       Bhutan|      152|   16888.05|\n",
      "|     accessories|       Brazil|      267|   16406.95|\n",
      "|     accessories|       Canada|      337|   20199.09|\n",
      "|     accessories|         Chad|      158|    4839.46|\n",
      "|     accessories|        China|      672|   69061.66|\n",
      "|     accessories|      Czechia|      118|    9874.99|\n",
      "|     accessories|      Finland|      160|   15631.21|\n",
      "|     accessories|       France|      155|    37678.0|\n",
      "|     accessories|        Gabon|      229|   21789.04|\n",
      "|     accessories|Guinea-Bissau|      160|   15913.39|\n",
      "|     accessories|     Honduras|      135|   10840.79|\n",
      "|     accessories|        India|      108|   12777.28|\n",
      "|     accessories|    Indonesia|      206|    18857.1|\n",
      "|     accessories|         Iran|      354|   49209.86|\n",
      "|     accessories|         Iraq|      135|   25363.18|\n",
      "|     accessories|        Japan|      286|   25691.35|\n",
      "|     accessories|   Kazakhstan|      169|   14866.34|\n",
      "|     accessories|        Kenya|      303|   40753.12|\n",
      "+----------------+-------------+---------+-----------+\n",
      "only showing top 20 rows\n",
      "\n"
     ]
    }
   ],
   "source": [
    "df.show()"
   ]
  },
  {
   "cell_type": "code",
   "execution_count": 27,
   "metadata": {},
   "outputs": [],
   "source": [
    "df: DataFrame = df.drop('order_id', 'customer_id', 'customer_name','product_id','product_name', \n",
    "        'payment_type', 'datetime', 'city', 'ecommerce_website_name',  \n",
    "        'payment_txn_id','payment_txn_success')"
   ]
  },
  {
   "cell_type": "code",
   "execution_count": 28,
   "metadata": {},
   "outputs": [],
   "source": [
    "df = df.withColumn(\"total_sales\",f.round(f.col(\"qty\") * f.col(\"price\"),2))"
   ]
  },
  {
   "cell_type": "code",
   "execution_count": 29,
   "metadata": {},
   "outputs": [],
   "source": [
    "df = df.groupBy(\"product_category\", \"country\").agg(f.round(f.sum(\"qty\"),0).cast(\"integer\").alias(\"unit_sold\"),f.round(f.sum(\"total_sales\"),2).alias(\"total_sales\"))"
   ]
  },
  {
   "cell_type": "code",
   "execution_count": 30,
   "metadata": {},
   "outputs": [],
   "source": [
    "df = df.orderBy([\"product_category\",\"country\"])"
   ]
  },
  {
   "cell_type": "code",
   "execution_count": 79,
   "metadata": {},
   "outputs": [
    {
     "ename": "NameError",
     "evalue": "name '__file__' is not defined",
     "output_type": "error",
     "traceback": [
      "\u001b[0;31m---------------------------------------------------------------------------\u001b[0m",
      "\u001b[0;31mNameError\u001b[0m                                 Traceback (most recent call last)",
      "Cell \u001b[0;32mIn[79], line 2\u001b[0m\n\u001b[1;32m      1\u001b[0m \u001b[38;5;28;01mfrom\u001b[39;00m \u001b[38;5;21;01mpathlib\u001b[39;00m \u001b[38;5;28;01mimport\u001b[39;00m Path\n\u001b[0;32m----> 2\u001b[0m path \u001b[38;5;241m=\u001b[39m Path(\u001b[38;5;18;43m__file__\u001b[39;49m)\u001b[38;5;241m.\u001b[39mparent \u001b[38;5;241m/\u001b[39m \u001b[38;5;124m\"\u001b[39m\u001b[38;5;124mcategory_by_country\u001b[39m\u001b[38;5;124m\"\u001b[39m\n\u001b[1;32m      3\u001b[0m df\u001b[38;5;241m.\u001b[39mwrite\u001b[38;5;241m.\u001b[39mcsv(\u001b[38;5;124m'\u001b[39m\u001b[38;5;124mfile://\u001b[39m\u001b[38;5;124m'\u001b[39m\u001b[38;5;241m+\u001b[39m\u001b[38;5;28mstr\u001b[39m(path\u001b[38;5;241m.\u001b[39mabsolute()), header\u001b[38;5;241m=\u001b[39m\u001b[38;5;28;01mTrue\u001b[39;00m)\n",
      "\u001b[0;31mNameError\u001b[0m: name '__file__' is not defined"
     ]
    }
   ],
   "source": [
    "# For python\n",
    "#path = Path(__file__).parent / \"category_by_country\"\n",
    "#df.write.csv('file://'+str(path.absolute()), header=True)"
   ]
  },
  {
   "cell_type": "code",
   "execution_count": 32,
   "metadata": {},
   "outputs": [],
   "source": [
    "# for jupyter\n",
    "path = path + \"/data/oluwatobi/category_by_country.csv\"\n",
    "df.toPandas().to_csv(str(path), index=False)"
   ]
  }
 ],
 "metadata": {
  "kernelspec": {
   "display_name": "base",
   "language": "python",
   "name": "python3"
  },
  "language_info": {
   "codemirror_mode": {
    "name": "ipython",
    "version": 3
   },
   "file_extension": ".py",
   "mimetype": "text/x-python",
   "name": "python",
   "nbconvert_exporter": "python",
   "pygments_lexer": "ipython3",
   "version": "3.8.10"
  }
 },
 "nbformat": 4,
 "nbformat_minor": 2
}
