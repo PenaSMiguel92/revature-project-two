{
 "cells": [
  {
   "cell_type": "code",
   "execution_count": 2,
   "metadata": {},
   "outputs": [],
   "source": [
    "import sys\n",
    "import os\n",
    "path = os.path.abspath('')\n",
    "path = os.path.dirname(path)\n",
    "sys.path.insert(1, str(path))"
   ]
  },
  {
   "cell_type": "code",
   "execution_count": 3,
   "metadata": {},
   "outputs": [
    {
     "name": "stderr",
     "output_type": "stream",
     "text": [
      "your 131072x1 screen size is bogus. expect trouble\n",
      "24/08/07 14:39:43 WARN Utils: Your hostname, LAPTOP-E2047RF4 resolves to a loopback address: 127.0.1.1; using 172.17.108.134 instead (on interface eth0)\n",
      "24/08/07 14:39:43 WARN Utils: Set SPARK_LOCAL_IP if you need to bind to another address\n",
      "Setting default log level to \"WARN\".\n",
      "To adjust logging level use sc.setLogLevel(newLevel). For SparkR, use setLogLevel(newLevel).\n",
      "24/08/07 14:39:45 WARN NativeCodeLoader: Unable to load native-hadoop library for your platform... using builtin-java classes where applicable\n",
      "                                                                                \r"
     ]
    }
   ],
   "source": [
    "import load_csv\n",
    "import pandas\n",
    "from pyspark.sql import DataFrame,Window,functions as f\n",
    "from pathlib import Path\n",
    "df = load_csv.load(\"data/clean_data.csv\")"
   ]
  },
  {
   "cell_type": "code",
   "execution_count": 69,
   "metadata": {},
   "outputs": [
    {
     "name": "stdout",
     "output_type": "stream",
     "text": [
      "+----------------+-------------+---------+-----------+\n",
      "|product_category|      country|unit_sold|total_sales|\n",
      "+----------------+-------------+---------+-----------+\n",
      "|     accessories|    Argentina|      135|   31495.98|\n",
      "|     accessories|    Australia|      218|    9236.72|\n",
      "|     accessories|       Bhutan|      152|   16888.05|\n",
      "|     accessories|       Brazil|      267|   16406.95|\n",
      "|     accessories|       Canada|      337|   20199.09|\n",
      "|     accessories|         Chad|      158|    4839.46|\n",
      "|     accessories|        China|      672|   69061.66|\n",
      "|     accessories|      Czechia|      118|    9874.99|\n",
      "|     accessories|      Finland|      160|   15631.21|\n",
      "|     accessories|       France|      155|    37678.0|\n",
      "|     accessories|        Gabon|      229|   21789.04|\n",
      "|     accessories|Guinea-Bissau|      160|   15913.39|\n",
      "|     accessories|     Honduras|      135|   10840.79|\n",
      "|     accessories|        India|      108|   12777.28|\n",
      "|     accessories|    Indonesia|      206|    18857.1|\n",
      "|     accessories|         Iran|      354|   49209.86|\n",
      "|     accessories|         Iraq|      135|   25363.18|\n",
      "|     accessories|        Japan|      286|   25691.35|\n",
      "|     accessories|   Kazakhstan|      169|   14866.34|\n",
      "|     accessories|        Kenya|      303|   40753.12|\n",
      "+----------------+-------------+---------+-----------+\n",
      "only showing top 20 rows\n",
      "\n"
     ]
    }
   ],
   "source": [
    "df.show()"
   ]
  },
  {
   "cell_type": "code",
   "execution_count": 4,
   "metadata": {},
   "outputs": [],
   "source": [
    "df: DataFrame = df.drop('order_id', 'customer_id', 'customer_name','product_id','product_name', \n",
    "        'payment_type', 'datetime', 'city', 'ecommerce_website_name',  \n",
    "        'payment_txn_id','payment_txn_success')"
   ]
  },
  {
   "cell_type": "code",
   "execution_count": 5,
   "metadata": {},
   "outputs": [],
   "source": [
    "df = df.withColumn(\"total_sales\",f.round(f.col(\"qty\") * f.col(\"price\"),2))"
   ]
  },
  {
   "cell_type": "code",
   "execution_count": 6,
   "metadata": {},
   "outputs": [],
   "source": [
    "df = df.groupBy(\"product_category\", \"country\").agg(f.round(f.sum(\"qty\"),0).cast(\"integer\").alias(\"unit_sold\"),\n",
    "                                                   f.round(f.sum(\"total_sales\"),2).alias(\"total_sales\"))"
   ]
  },
  {
   "cell_type": "code",
   "execution_count": 7,
   "metadata": {},
   "outputs": [],
   "source": [
    "df = df.orderBy([\"product_category\",\"country\"])"
   ]
  },
  {
   "cell_type": "code",
   "execution_count": 55,
   "metadata": {},
   "outputs": [],
   "source": [
    "windowSpec = Window.partitionBy(\"country\")"
   ]
  },
  {
   "cell_type": "code",
   "execution_count": 57,
   "metadata": {},
   "outputs": [],
   "source": [
    "county_max_total_sale = df.withColumn(\"max_total_sales\", f.max(f.col(\"total_sales\")).over(windowSpec))"
   ]
  },
  {
   "cell_type": "code",
   "execution_count": 63,
   "metadata": {},
   "outputs": [],
   "source": [
    "county_max_total_sale = county_max_total_sale.filter(f.col(\"total_sales\") == f.col(\"max_total_sales\")).drop(\"max_total_sales\",\"unit_sold\")"
   ]
  },
  {
   "cell_type": "code",
   "execution_count": 61,
   "metadata": {},
   "outputs": [],
   "source": [
    "county_max_unit_sold = df.withColumn(\"max_unit_sold\", f.max(f.col(\"unit_sold\")).over(windowSpec))"
   ]
  },
  {
   "cell_type": "code",
   "execution_count": 67,
   "metadata": {},
   "outputs": [],
   "source": [
    "county_max_unit_sold = county_max_unit_sold.filter(f.col(\"unit_sold\") == f.col(\"max_unit_sold\")).drop(\"max_unit_sold\",\"total_sales\")"
   ]
  },
  {
   "cell_type": "code",
   "execution_count": 66,
   "metadata": {},
   "outputs": [
    {
     "name": "stdout",
     "output_type": "stream",
     "text": [
      "+----------------+--------------------+-----------+\n",
      "|product_category|             country|total_sales|\n",
      "+----------------+--------------------+-----------+\n",
      "|     accessories|           Argentina|   31495.98|\n",
      "|     accessories|           Australia|    9236.72|\n",
      "|     accessories|              Bhutan|   16888.05|\n",
      "|     accessories|              Brazil|   16406.95|\n",
      "|     accessories|              Canada|   20199.09|\n",
      "|     accessories|                Chad|    4839.46|\n",
      "|     accessories|               China|   69061.66|\n",
      "|     accessories|             Czechia|    9874.99|\n",
      "|     accessories|             Finland|   15631.21|\n",
      "|     accessories|              France|    37678.0|\n",
      "|     accessories|               Gabon|   21789.04|\n",
      "|     accessories|       Guinea-Bissau|   15913.39|\n",
      "|     accessories|            Honduras|   10840.79|\n",
      "|     accessories|               India|   12777.28|\n",
      "|     accessories|           Indonesia|    18857.1|\n",
      "|     accessories|                Iran|   49209.86|\n",
      "|     accessories|                Iraq|   25363.18|\n",
      "|     accessories|               Japan|   25691.35|\n",
      "|     accessories|          Kazakhstan|   14866.34|\n",
      "|     accessories|               Kenya|   40753.12|\n",
      "|     accessories|                Mali|   41236.12|\n",
      "|     accessories|              Mexico|   47979.08|\n",
      "|     accessories|             Nigeria|   18972.53|\n",
      "|     accessories|              Panama|   14889.53|\n",
      "|     accessories|                Peru|   12351.31|\n",
      "|     accessories|         Puerto Rico|   26828.96|\n",
      "|     accessories|              Russia|  161571.58|\n",
      "|     accessories|South Georgia And...|   20868.72|\n",
      "|     accessories|           Sri Lanka|   25690.49|\n",
      "|     accessories|              Sweden|   23151.86|\n",
      "|     accessories|            Thailand|    8723.56|\n",
      "|     accessories|              Turkey|   15176.57|\n",
      "|     accessories|             Ukraine|   31345.08|\n",
      "|     accessories|       United States|  976306.28|\n",
      "|     accessories|          Uzbekistan|   10449.45|\n",
      "|     accessories|            Zimbabwe|    21892.6|\n",
      "+----------------+--------------------+-----------+\n",
      "\n"
     ]
    }
   ],
   "source": [
    "county_max_total_sale.show()"
   ]
  },
  {
   "cell_type": "code",
   "execution_count": 68,
   "metadata": {},
   "outputs": [
    {
     "name": "stdout",
     "output_type": "stream",
     "text": [
      "+----------------+-------------+---------+\n",
      "|product_category|      country|unit_sold|\n",
      "+----------------+-------------+---------+\n",
      "|     accessories|    Argentina|      135|\n",
      "|     accessories|    Australia|      218|\n",
      "|     accessories|       Bhutan|      152|\n",
      "|     accessories|       Brazil|      267|\n",
      "|     accessories|       Canada|      337|\n",
      "|     accessories|         Chad|      158|\n",
      "|     accessories|        China|      672|\n",
      "|  men's clothing|      Czechia|      156|\n",
      "|     accessories|      Finland|      160|\n",
      "|     accessories|       France|      155|\n",
      "|     accessories|        Gabon|      229|\n",
      "|     accessories|Guinea-Bissau|      160|\n",
      "|     accessories|     Honduras|      135|\n",
      "|     accessories|        India|      108|\n",
      "|     accessories|    Indonesia|      206|\n",
      "|     accessories|         Iran|      354|\n",
      "|     accessories|         Iraq|      135|\n",
      "|     accessories|        Japan|      286|\n",
      "|     accessories|   Kazakhstan|      169|\n",
      "|     accessories|        Kenya|      303|\n",
      "+----------------+-------------+---------+\n",
      "only showing top 20 rows\n",
      "\n"
     ]
    }
   ],
   "source": [
    "county_max_unit_sold.show()"
   ]
  },
  {
   "cell_type": "code",
   "execution_count": 8,
   "metadata": {},
   "outputs": [],
   "source": [
    "category_df = df.groupBy(\"product_category\").agg(f.round(f.sum(\"unit_sold\"),0).cast(\"integer\").alias(\"unit_sold\"),f.round(f.sum(\"total_sales\"),2).alias(\"total_sales\"))"
   ]
  },
  {
   "cell_type": "code",
   "execution_count": 10,
   "metadata": {},
   "outputs": [],
   "source": [
    "category_df = category_df.orderBy([\"product_category\"])"
   ]
  },
  {
   "cell_type": "code",
   "execution_count": 11,
   "metadata": {},
   "outputs": [
    {
     "name": "stdout",
     "output_type": "stream",
     "text": [
      "+--------------------+---------+-----------+\n",
      "|    product_category|unit_sold|total_sales|\n",
      "+--------------------+---------+-----------+\n",
      "|         accessories|    14844| 1924807.28|\n",
      "|          appliances|     3387|  549694.33|\n",
      "|      bags & luggage|      879|   28826.07|\n",
      "|     beauty & health|      936|   19061.54|\n",
      "|     car & motorbike|      884|   19758.06|\n",
      "|grocery & gourmet...|      475|   11750.88|\n",
      "|      home & kitchen|      965|   16153.74|\n",
      "| industrial supplies|      645|   10168.87|\n",
      "|       kids' fashion|     1640|   47143.68|\n",
      "|      men's clothing|     9395|  232159.04|\n",
      "|         men's shoes|     8139|  322089.42|\n",
      "|               music|      232|    12435.1|\n",
      "|        pet supplies|      166|     786.45|\n",
      "|    sports & fitness|     1794|   64592.87|\n",
      "|              stores|     3523|  184677.73|\n",
      "|toys & baby products|     1105|   12470.46|\n",
      "| tv, audio & cameras|     7414|  484732.99|\n",
      "|    women's clothing|     9348|  194173.71|\n",
      "|       women's shoes|      519|   17363.33|\n",
      "+--------------------+---------+-----------+\n",
      "\n"
     ]
    }
   ],
   "source": [
    "category_df.show()"
   ]
  },
  {
   "cell_type": "code",
   "execution_count": 79,
   "metadata": {},
   "outputs": [
    {
     "ename": "NameError",
     "evalue": "name '__file__' is not defined",
     "output_type": "error",
     "traceback": [
      "\u001b[0;31m---------------------------------------------------------------------------\u001b[0m",
      "\u001b[0;31mNameError\u001b[0m                                 Traceback (most recent call last)",
      "Cell \u001b[0;32mIn[79], line 2\u001b[0m\n\u001b[1;32m      1\u001b[0m \u001b[38;5;28;01mfrom\u001b[39;00m \u001b[38;5;21;01mpathlib\u001b[39;00m \u001b[38;5;28;01mimport\u001b[39;00m Path\n\u001b[0;32m----> 2\u001b[0m path \u001b[38;5;241m=\u001b[39m Path(\u001b[38;5;18;43m__file__\u001b[39;49m)\u001b[38;5;241m.\u001b[39mparent \u001b[38;5;241m/\u001b[39m \u001b[38;5;124m\"\u001b[39m\u001b[38;5;124mcategory_by_country\u001b[39m\u001b[38;5;124m\"\u001b[39m\n\u001b[1;32m      3\u001b[0m df\u001b[38;5;241m.\u001b[39mwrite\u001b[38;5;241m.\u001b[39mcsv(\u001b[38;5;124m'\u001b[39m\u001b[38;5;124mfile://\u001b[39m\u001b[38;5;124m'\u001b[39m\u001b[38;5;241m+\u001b[39m\u001b[38;5;28mstr\u001b[39m(path\u001b[38;5;241m.\u001b[39mabsolute()), header\u001b[38;5;241m=\u001b[39m\u001b[38;5;28;01mTrue\u001b[39;00m)\n",
      "\u001b[0;31mNameError\u001b[0m: name '__file__' is not defined"
     ]
    }
   ],
   "source": [
    "# For python\n",
    "#path = Path(__file__).parent / \"category_by_country\"\n",
    "#df.write.csv('file://'+str(path.absolute()), header=True)"
   ]
  },
  {
   "cell_type": "code",
   "execution_count": 32,
   "metadata": {},
   "outputs": [],
   "source": [
    "# for jupyter\n",
    "category_by_country_path = path + \"/data/oluwatobi/category_by_country.csv\"\n",
    "df.toPandas().to_csv(str(category_by_country_path), index=False)"
   ]
  }
 ],
 "metadata": {
  "kernelspec": {
   "display_name": "base",
   "language": "python",
   "name": "python3"
  },
  "language_info": {
   "codemirror_mode": {
    "name": "ipython",
    "version": 3
   },
   "file_extension": ".py",
   "mimetype": "text/x-python",
   "name": "python",
   "nbconvert_exporter": "python",
   "pygments_lexer": "ipython3",
   "version": "3.8.10"
  }
 },
 "nbformat": 4,
 "nbformat_minor": 2
}
