{
 "cells": [
  {
   "cell_type": "code",
   "execution_count": 89,
   "metadata": {},
   "outputs": [],
   "source": [
    "import load_csv\n",
    "df = load_csv.load(\"test_data/test.csv\")"
   ]
  },
  {
   "cell_type": "code",
   "execution_count": 90,
   "metadata": {},
   "outputs": [],
   "source": [
    "from pyspark.sql.functions import countDistinct, col, sum, row_number, when, count, year, month, quarter, round, lag, concat, lit, desc, format_number\n",
    "from pyspark.sql import Window\n",
    "from pathlib import Path"
   ]
  },
  {
   "cell_type": "code",
   "execution_count": 111,
   "metadata": {},
   "outputs": [],
   "source": [
    "from pathlib import Path\n",
    "\n",
    "# Define the path for saving files\n",
    "base_path = Path(\"data_analysis_and_cleaner/data/matt\")\n",
    "base_path.mkdir(parents=True, exist_ok=True)\n",
    "\n",
    "# Define a function to save a DataFrame to the specified path\n",
    "def save_dataframe_to_csv(df, filename):\n",
    "    file_path = base_path / filename\n",
    "    # Save the DataFrame to a CSV file, overwriting any existing file with the same name\n",
    "    df.write.mode(\"overwrite\").csv('file://' + str(file_path.absolute()), header=True)\n"
   ]
  },
  {
   "cell_type": "code",
   "execution_count": 55,
   "metadata": {},
   "outputs": [
    {
     "name": "stdout",
     "output_type": "stream",
     "text": [
      "['order_id', 'customer_id', 'customer_name', 'product_id', 'product_name', 'product_category', 'payment_type', 'qty', 'price', 'datetime', 'country', 'city', 'ecommerce_website_name', 'payment_txn_id', 'payment_txn_success']\n"
     ]
    }
   ],
   "source": [
    "print(df.columns)"
   ]
  },
  {
   "cell_type": "code",
   "execution_count": 113,
   "metadata": {},
   "outputs": [
    {
     "name": "stdout",
     "output_type": "stream",
     "text": [
      "+---+------+----------+--------------------+----------------+----------------------+\n",
      "|qty| price|  datetime|             country|            city|ecommerce_website_name|\n",
      "+---+------+----------+--------------------+----------------+----------------------+\n",
      "|  3| 25.19|2022-05-19|       United States|       Blackhawk|       www.wayfair.com|\n",
      "|  4| 59.99|2023-06-15|       United States|   Lake Barcroft|       www.walmart.com|\n",
      "|  6| 17.99|2023-09-11|                Iraq|           Dahūk|        www.costco.com|\n",
      "|  1| 13.19|2022-09-25|South Georgia And...|       Grytviken|        www.amazon.com|\n",
      "|  9|  8.39|2024-06-15|                Mali|        Yélimané|         www.apple.com|\n",
      "|  7| 35.94|2022-02-14|             Ukraine|           Odesa|       www.wayfair.com|\n",
      "|  5|119.99|2023-06-08|           Argentina|            Vera|        www.amazon.com|\n",
      "|  5| 114.0|2024-03-09|               China|          Guilin|         www.apple.com|\n",
      "|  4| 59.99|2024-05-08|       United States|       Warrenton|         www.apple.com|\n",
      "|  3| 11.99|2023-09-14|           Australia|         Grafton|       www.wayfair.com|\n",
      "|  6| 14.39|2024-07-15|            Honduras|Ciudad Choluteca|        www.costco.com|\n",
      "|  6|  18.0|2024-02-15|               Gabon|           Gamba|          www.ebay.com|\n",
      "|  7| 41.94|2022-09-06|       United States|        Longmont|        www.amazon.com|\n",
      "|  6|  7.14|2022-02-06|              Mexico| San Luis Potosí|          www.ebay.com|\n",
      "|  4| 11.99|2023-10-07|              Russia|    Zelënodol’sk|          www.ebay.com|\n",
      "|  1| 114.0|2022-02-24|              Russia|    Zelënodol’sk|         www.apple.com|\n",
      "|  6| 23.99|2022-10-13|       United States|         Maywood|        www.amazon.com|\n",
      "|  4| 11.99|2022-08-03|               China|          Guilin|         www.apple.com|\n",
      "|  1| 16.79|2022-02-06|             Finland|           Lahti|          www.ebay.com|\n",
      "|  3| 47.99|2023-11-12|              Russia|    Zelënodol’sk|        www.amazon.com|\n",
      "+---+------+----------+--------------------+----------------+----------------------+\n",
      "only showing top 20 rows\n",
      "\n"
     ]
    }
   ],
   "source": [
    "# List of columns to drop\n",
    "columns_to_drop = [\"product_name\", \"product_category\",\"order_id\", \"customer_id\", \"customer_name\", \"product_id\", \"payment_type\", \"payment_txn_id\", \"payment_txn_success\"]\n",
    "\n",
    "# Drop the columns\n",
    "df_dropped = df.drop(*columns_to_drop)\n",
    "\n",
    "# Show the DataFrame after dropping the columns\n",
    "df_dropped.show()\n"
   ]
  },
  {
   "cell_type": "code",
   "execution_count": 114,
   "metadata": {},
   "outputs": [
    {
     "name": "stderr",
     "output_type": "stream",
     "text": [
      "                                                                                \r"
     ]
    }
   ],
   "source": [
    "save_dataframe_to_csv(df_dropped, \"dropped_data.csv\")"
   ]
  },
  {
   "cell_type": "code",
   "execution_count": 57,
   "metadata": {},
   "outputs": [
    {
     "name": "stdout",
     "output_type": "stream",
     "text": [
      "{'product_name': 980, 'product_category': 19, 'qty': 12, 'price': 366, 'datetime': 945, 'country': 37, 'city': 100, 'ecommerce_website_name': 11}\n"
     ]
    }
   ],
   "source": [
    "def count_unique_values(df):\n",
    "    unique_counts = {}\n",
    "    for column in df.columns:\n",
    "        unique_count = df.select(countDistinct(column)).collect()[0][0]\n",
    "        unique_counts[column] = unique_count\n",
    "    return unique_counts\n",
    "\n",
    "# Example usage\n",
    "unique_counts = count_unique_values(df_dropped)\n",
    "print(unique_counts)\n"
   ]
  },
  {
   "cell_type": "code",
   "execution_count": 58,
   "metadata": {},
   "outputs": [],
   "source": [
    "df = df_dropped"
   ]
  },
  {
   "cell_type": "code",
   "execution_count": 81,
   "metadata": {},
   "outputs": [
    {
     "name": "stdout",
     "output_type": "stream",
     "text": [
      "+----------------------+---------+---------+---------+---------+---------+---------+---------+---------+---------+---------+---------+\n",
      "|ecommerce_website_name|2022 Q1  |2022 Q2  |2022 Q3  |2022 Q4  |2023 Q1  |2023 Q2  |2023 Q3  |2023 Q4  |2024 Q1  |2024 Q2  |2024 Q3  |\n",
      "+----------------------+---------+---------+---------+---------+---------+---------+---------+---------+---------+---------+---------+\n",
      "|www.walmart.com       |19,873.65|26,417.65|32,692.85|30,020.28|25,361.03|67,240.57|40,993.97|28,433.25|29,353.72|42,140.80|14,581.66|\n",
      "|www.nike.com          |57,601.74|26,094.88|49,790.46|47,400.69|38,607.34|27,308.98|81,595.00|42,850.02|18,067.20|23,389.42|5,281.60 |\n",
      "|www.homedepot.com     |23,897.50|40,668.50|34,091.06|28,079.34|36,625.58|53,671.29|42,409.07|30,619.20|22,159.41|38,457.30|27,324.69|\n",
      "|www.wayfair.com       |34,335.14|28,737.72|27,653.42|24,764.22|34,268.25|47,537.20|30,278.85|36,789.36|42,818.78|30,800.59|15,491.98|\n",
      "|www.etsy.com          |28,868.99|59,734.72|40,969.01|43,640.71|32,067.05|23,954.68|49,504.27|28,750.70|27,038.40|37,328.65|6,951.83 |\n",
      "|www.costco.com        |32,306.39|44,098.56|47,802.18|30,956.78|25,087.02|24,445.79|57,980.11|34,411.59|58,265.87|28,207.73|13,548.66|\n",
      "|www.bestbuy.com       |29,388.71|21,793.51|33,944.59|32,534.52|36,623.62|36,618.86|36,502.38|44,263.96|39,677.52|48,870.23|15,253.25|\n",
      "|www.amazon.com        |26,920.73|72,662.69|50,020.21|64,557.44|24,842.35|40,787.46|35,018.61|40,394.87|36,288.22|32,706.19|12,678.01|\n",
      "|www.apple.com         |31,900.29|51,372.33|26,387.88|25,694.00|40,565.29|25,810.37|30,529.32|39,256.81|39,421.14|25,220.93|3,091.61 |\n",
      "|www.alibaba.com       |40,188.87|30,657.08|36,891.09|48,885.51|46,990.62|30,232.49|32,673.23|32,448.02|44,582.04|31,998.64|6,864.86 |\n",
      "|www.ebay.com          |25,937.15|32,805.74|25,225.01|35,532.80|54,456.69|51,884.58|33,993.26|30,874.94|26,772.72|39,245.88|5,994.27 |\n",
      "+----------------------+---------+---------+---------+---------+---------+---------+---------+---------+---------+---------+---------+\n",
      "\n"
     ]
    }
   ],
   "source": [
    "# Extract year and quarter, calculate sales\n",
    "quarterly_sales_df = df.withColumn(\"year\", year(col(\"datetime\"))) \\\n",
    "                       .withColumn(\"quarter\", quarter(col(\"datetime\"))) \\\n",
    "                       .withColumn(\"sales\", col(\"qty\") * col(\"price\")) \\\n",
    "                       .groupBy(\"ecommerce_website_name\", \"year\", \"quarter\") \\\n",
    "                       .agg(round(sum(col(\"sales\")), 2).alias(\"total_sales\")) \\\n",
    "                       .withColumn(\"year_quarter\", concat(col(\"year\"), lit(\" Q\"), col(\"quarter\")))\n",
    "\n",
    "# Pivot the DataFrame\n",
    "pivot_df = quarterly_sales_df.groupBy(\"ecommerce_website_name\") \\\n",
    "                             .pivot(\"year_quarter\") \\\n",
    "                             .sum(\"total_sales\")\n",
    "\n",
    "# Format the numbers with comma separators and two decimal places\n",
    "formatted_columns = [format_number(col(c), 2).alias(c) if c != 'ecommerce_website_name' else col(c) for c in pivot_df.columns]\n",
    "\n",
    "# Select formatted columns\n",
    "formatted_pivot_df = pivot_df.select(formatted_columns)\n",
    "\n",
    "# Show the results\n",
    "formatted_pivot_df.show(truncate=False)\n"
   ]
  },
  {
   "cell_type": "code",
   "execution_count": 100,
   "metadata": {},
   "outputs": [
    {
     "name": "stdout",
     "output_type": "stream",
     "text": [
      "+----------------------+-----------+\n",
      "|ecommerce_website_name|total_sales|\n",
      "+----------------------+-----------+\n",
      "|www.walmart.com       |357109.43  |\n",
      "|www.nike.com          |417987.33  |\n",
      "|www.homedepot.com     |378002.94  |\n",
      "|www.wayfair.com       |353475.51  |\n",
      "|www.etsy.com          |378809.01  |\n",
      "|www.costco.com        |397110.68  |\n",
      "|www.bestbuy.com       |375471.15  |\n",
      "|www.amazon.com        |436876.78  |\n",
      "|www.apple.com         |339249.97  |\n",
      "|www.alibaba.com       |382412.45  |\n",
      "|www.ebay.com          |362723.04  |\n",
      "+----------------------+-----------+\n",
      "\n"
     ]
    }
   ],
   "source": [
    "# Calculate total sales across all quarters per ecommerce_website_name\n",
    "total_sales_df = quarterly_sales_df.groupBy(\"ecommerce_website_name\") \\\n",
    "                                   .agg(round(sum(col(\"total_sales\")), 2).alias(\"total_sales\"))\n",
    "\n",
    "total_sales_df.show(truncate=False)"
   ]
  },
  {
   "cell_type": "code",
   "execution_count": 105,
   "metadata": {},
   "outputs": [
    {
     "name": "stdout",
     "output_type": "stream",
     "text": [
      "+----------------------+----------+----------+----------+----------+-----------+\n",
      "|ecommerce_website_name| Q1       | Q2       | Q3       | Q4       |total_sales|\n",
      "+----------------------+----------+----------+----------+----------+-----------+\n",
      "|www.amazon.com        |88,051.30 |146,156.34|97,716.83 |104,952.31|436,876.78 |\n",
      "|www.nike.com          |114,276.28|76,793.28 |136,667.06|90,250.71 |417,987.33 |\n",
      "|www.costco.com        |115,659.28|96,752.08 |119,330.95|65,368.37 |397,110.68 |\n",
      "|www.alibaba.com       |131,761.53|92,888.21 |76,429.18 |81,333.53 |382,412.45 |\n",
      "|www.etsy.com          |87,974.44 |121,018.05|97,425.11 |72,391.41 |378,809.01 |\n",
      "|www.homedepot.com     |82,682.49 |132,797.09|103,824.82|58,698.54 |378,002.94 |\n",
      "|www.bestbuy.com       |105,689.85|107,282.60|85,700.22 |76,798.48 |375,471.15 |\n",
      "|www.ebay.com          |107,166.56|123,936.20|65,212.54 |66,407.74 |362,723.04 |\n",
      "|www.walmart.com       |74,588.40 |135,799.02|88,268.48 |58,453.53 |357,109.43 |\n",
      "|www.wayfair.com       |111,422.17|107,075.51|73,424.25 |61,553.58 |353,475.51 |\n",
      "|www.apple.com         |111,886.72|102,403.63|60,008.81 |64,950.81 |339,249.97 |\n",
      "+----------------------+----------+----------+----------+----------+-----------+\n",
      "\n"
     ]
    }
   ],
   "source": [
    "# Extract year and quarter, calculate sales\n",
    "quarterly_sales_df = df.withColumn(\"quarter\", quarter(col(\"datetime\"))) \\\n",
    "                       .withColumn(\"sales\", col(\"qty\") * col(\"price\")) \\\n",
    "                       .groupBy(\"ecommerce_website_name\", \"quarter\") \\\n",
    "                       .agg(round(sum(col(\"sales\")), 2).alias(\"total_sales\")) \\\n",
    "                       .withColumn(\"quarter\", concat(lit(\" Q\"), col(\"quarter\")))\n",
    "\n",
    "total_revenue_by_site = quarterly_sales_df.groupBy(\"ecommerce_website_name\") \\\n",
    "                                          .agg(round(sum(col(\"total_sales\")), 2).alias(\"total_sales\"))\n",
    "\n",
    "# Pivot the DataFrame\n",
    "pivot_df = quarterly_sales_df.groupBy(\"ecommerce_website_name\") \\\n",
    "                             .pivot(\"quarter\") \\\n",
    "                             .sum(\"total_sales\")\n",
    "\n",
    "pivot_df = pivot_df.join(total_revenue_by_site, \"ecommerce_website_name\")\\\n",
    ".orderBy(col(\"total_sales\").desc())\n",
    "\n",
    "# Format the numbers with comma separators and two decimal places\n",
    "formatted_columns = [format_number(col(c), 2).alias(c) if c != 'ecommerce_website_name' else col(c) for c in pivot_df.columns]\n",
    "\n",
    "# Select formatted columns\n",
    "formatted_pivot_df = pivot_df.select(formatted_columns)\n",
    "\n",
    "# Show the results\n",
    "formatted_pivot_df.show(truncate=False)\n"
   ]
  },
  {
   "cell_type": "code",
   "execution_count": 88,
   "metadata": {},
   "outputs": [
    {
     "name": "stdout",
     "output_type": "stream",
     "text": [
      "+----------------------------------------+---------------+--------------+-------------+---------------+--------------+------------+------------+-----------------+------------+---------------+---------------+\n",
      "|country                                 |www.alibaba.com|www.amazon.com|www.apple.com|www.bestbuy.com|www.costco.com|www.ebay.com|www.etsy.com|www.homedepot.com|www.nike.com|www.walmart.com|www.wayfair.com|\n",
      "+----------------------------------------+---------------+--------------+-------------+---------------+--------------+------------+------------+-----------------+------------+---------------+---------------+\n",
      "|United States                           |154898.15      |243406.8      |166481.07    |194378.43      |198490.16     |172194.69   |199031.58   |201572.17        |205269.08   |138144.46      |166859.34      |\n",
      "|Russia                                  |30229.67       |18960.3       |15727.06     |32633.11       |36626.24      |17400.29    |35232.08    |14988.66         |40076.29    |29393.15       |33311.41       |\n",
      "|China                                   |24424.87       |17023.82      |17643.12     |7898.72        |16097.21      |7854.66     |12249.35    |9205.9           |16272.81    |17099.82       |21055.99       |\n",
      "|Iran                                    |24721.23       |11813.27      |6607.43      |6339.7         |6925.77       |19353.19    |8581.34     |12007.81         |5346.51     |5768.53        |2970.88        |\n",
      "|Japan                                   |2597.74        |5218.07       |18106.01     |10664.4        |17733.46      |6422.26     |2786.62     |3463.33          |4767.61     |4200.34        |12913.88       |\n",
      "|Ukraine                                 |9252.97        |7052.77       |2497.31      |12113.03       |7788.03       |10098.52    |6758.05     |5882.18          |8840.25     |3426.43        |6054.47        |\n",
      "|Mexico                                  |6589.34        |3902.09       |4583.73      |3469.49        |7241.71       |14747.22    |12549.18    |12305.55         |2415.38     |3998.18        |7849.12        |\n",
      "|Kenya                                   |28947.87       |4082.13       |9996.81      |5179.24        |5081.28       |3620.42     |1973.7      |11211.73         |3927.04     |1552.17        |3143.37        |\n",
      "|Zimbabwe                                |13482.13       |6045.81       |5171.12      |5609.67        |6926.18       |10110.25    |3014.42     |6327.19          |7719.11     |4713.3         |6837.21        |\n",
      "|Canada                                  |3004.58        |3672.77       |11490.66     |3041.18        |6021.87       |6440.57     |3758.9      |15788.45         |9298.23     |3438.77        |2525.38        |\n",
      "|Brazil                                  |3340.18        |7358.75       |3061.19      |6533.92        |5328.03       |16483.31    |2592.1      |6608.33          |5980.81     |3962.53        |4462.81        |\n",
      "|Mali                                    |4453.89        |641.56        |1216.42      |14854.93       |1951.49       |5421.09     |5699.03     |2145.88          |20134.22    |6281.9         |1214.48        |\n",
      "|France                                  |1136.2         |21578.77      |14096.08     |2425.16        |1876.59       |1963.72     |261.18      |786.09           |3114.14     |8285.26        |1860.51        |\n",
      "|Sri Lanka                               |1122.81        |7105.63       |2446.72      |2241.56        |10457.63      |2715.8      |4647.37     |2122.54          |3216.95     |11139.53       |1428.27        |\n",
      "|Sweden                                  |15892.71       |556.7         |1338.67      |3655.24        |958.75        |3310.19     |6995.21     |1145.68          |2089.97     |9752.7         |2516.61        |\n",
      "|Gabon                                   |1567.23        |4549.44       |4146.13      |3061.77        |1811.55       |7457.76     |4084.54     |1287.72          |3126.12     |14430.3        |2206.89        |\n",
      "|Bhutan                                  |2516.94        |5375.27       |516.48       |4640.24        |6898.96       |2916.19     |9762.6      |6291.1           |3869.88     |1033.64        |1549.54        |\n",
      "|Peru                                    |566.31         |9037.55       |7053.4       |2401.55        |1248.94       |4528.03     |1568.02     |3049.43          |8972.15     |3813.48        |2773.93        |\n",
      "|South Georgia And South Sandwich Islands|1760.96        |2158.12       |1222.1       |2106.87        |2252.08       |2414.19     |4251.62     |5680.25          |2275.24     |17015.15       |2685.35        |\n",
      "|Puerto Rico                             |1038.79        |1665.32       |1234.11      |1741.84        |1097.35       |7353.39     |1331.01     |1958.05          |1035.26     |15174.98       |9343.03        |\n",
      "+----------------------------------------+---------------+--------------+-------------+---------------+--------------+------------+------------+-----------------+------------+---------------+---------------+\n",
      "only showing top 20 rows\n",
      "\n"
     ]
    }
   ],
   "source": [
    "# Calculate revenue as qty * price\n",
    "df = df.withColumn(\"revenue\", col(\"qty\") * col(\"price\"))\n",
    "\n",
    "# Group by country and ecommerce_website_name, then sum the revenue\n",
    "grouped_df = df.groupBy(\"country\", \"ecommerce_website_name\") \\\n",
    "               .agg(round(sum(\"revenue\"), 2).alias(\"total_revenue\"))\n",
    "\n",
    "# Pivot the DataFrame\n",
    "pivot_df = grouped_df.groupBy(\"country\") \\\n",
    "                     .pivot(\"ecommerce_website_name\") \\\n",
    "                     .sum(\"total_revenue\")\n",
    "\n",
    "# Calculate the total revenue per country for ordering\n",
    "total_revenue_per_country = grouped_df.groupBy(\"country\") \\\n",
    "                                      .agg(sum(\"total_revenue\").alias(\"country_total_revenue\"))\n",
    "\n",
    "# Join the pivoted DataFrame with the total revenue DataFrame\n",
    "pivot_df = pivot_df.join(total_revenue_per_country, on=\"country\") \\\n",
    "                   .orderBy(col(\"country_total_revenue\").desc())\n",
    "\n",
    "# Drop the temporary total revenue column used for ordering\n",
    "pivot_df = pivot_df.drop(\"country_total_revenue\")\n",
    "\n",
    "# Show the results\n",
    "pivot_df.show(truncate=False)\n"
   ]
  },
  {
   "cell_type": "code",
   "execution_count": 95,
   "metadata": {},
   "outputs": [
    {
     "name": "stderr",
     "output_type": "stream",
     "text": [
      "                                                                                \r"
     ]
    },
    {
     "name": "stdout",
     "output_type": "stream",
     "text": [
      "+----------------------------------------+----------+----------+----------+----------+---------------------+\n",
      "|country                                 | Q1       | Q2       | Q3       | Q4       |country_total_revenue|\n",
      "+----------------------------------------+----------+----------+----------+----------+---------------------+\n",
      "|United States                           |522,918.86|576,777.97|505,373.07|435,656.03|2,040,725.93         |\n",
      "|Russia                                  |87,332.85 |109,532.20|49,724.33 |57,988.88 |304,578.26           |\n",
      "|China                                   |67,819.16 |42,749.93 |31,676.60 |24,580.58 |166,826.27           |\n",
      "|Iran                                    |32,664.39 |50,275.65 |9,662.61  |17,833.01 |110,435.66           |\n",
      "|Japan                                   |22,318.61 |21,069.70 |27,911.08 |17,574.33 |88,873.72            |\n",
      "|Ukraine                                 |20,490.51 |28,162.34 |14,866.49 |16,244.67 |79,764.01            |\n",
      "|Mexico                                  |17,302.27 |25,422.99 |22,336.84 |14,588.89 |79,650.99            |\n",
      "|Kenya                                   |11,977.40 |21,225.56 |34,748.61 |10,764.19 |78,715.76            |\n",
      "|Zimbabwe                                |21,440.93 |22,804.64 |23,270.80 |8,440.02  |75,956.39            |\n",
      "|Canada                                  |12,931.05 |21,974.22 |20,251.97 |13,324.12 |68,481.36            |\n",
      "|Brazil                                  |19,541.50 |23,208.84 |14,066.11 |8,895.51  |65,711.96            |\n",
      "|Mali                                    |10,212.74 |14,507.32 |35,396.23 |3,898.60  |64,014.89            |\n",
      "|France                                  |15,551.36 |22,101.33 |12,687.18 |7,043.83  |57,383.70            |\n",
      "|Sri Lanka                               |18,054.88 |9,059.06  |16,921.87 |4,609.00  |48,644.81            |\n",
      "|Sweden                                  |15,928.03 |9,119.55  |11,794.72 |11,370.13 |48,212.43            |\n",
      "|Gabon                                   |10,714.08 |16,638.52 |14,984.13 |5,392.72  |47,729.45            |\n",
      "|Bhutan                                  |12,470.63 |7,806.56  |13,599.91 |11,493.74 |45,370.84            |\n",
      "|Peru                                    |9,365.14  |17,977.38 |7,862.97  |9,807.30  |45,012.79            |\n",
      "|South Georgia And South Sandwich Islands|5,416.61  |22,285.32 |11,359.33 |4,760.67  |43,821.93            |\n",
      "|Puerto Rico                             |7,597.05  |21,437.75 |3,527.74  |10,410.59 |42,973.13            |\n",
      "+----------------------------------------+----------+----------+----------+----------+---------------------+\n",
      "only showing top 20 rows\n",
      "\n"
     ]
    }
   ],
   "source": [
    "# Extract year and quarter, calculate sales\n",
    "quarterly_sales_df = df.withColumn(\"quarter\", quarter(col(\"datetime\"))) \\\n",
    "                       .withColumn(\"sales\", col(\"qty\") * col(\"price\")) \\\n",
    "                       .groupBy(\"country\", \"quarter\") \\\n",
    "                       .agg(round(sum(col(\"sales\")), 2).alias(\"total_sales\")) \\\n",
    "                       .withColumn(\"quarter\", concat(lit(\" Q\"), col(\"quarter\")))\n",
    "\n",
    "# Pivot the DataFrame\n",
    "pivot_df = quarterly_sales_df.groupBy(\"country\") \\\n",
    "                             .pivot(\"quarter\") \\\n",
    "                             .sum(\"total_sales\")\n",
    "                             \n",
    "# Join the pivoted DataFrame with the total revenue DataFrame\n",
    "pivot_df = pivot_df.join(total_revenue_per_country, on=\"country\") \\\n",
    "                   .orderBy(col(\"country_total_revenue\").desc())\n",
    "\n",
    "# Format the numbers with comma separators and two decimal places\n",
    "formatted_columns = [format_number(col(c), 2).alias(c) if c != 'country' else col(c) for c in pivot_df.columns]\n",
    "\n",
    "# Select formatted columns\n",
    "formatted_pivot_df = pivot_df.select(formatted_columns)\n",
    "\n",
    "# Show the results\n",
    "formatted_pivot_df.show(truncate=False)"
   ]
  },
  {
   "cell_type": "code",
   "execution_count": 108,
   "metadata": {},
   "outputs": [
    {
     "name": "stdout",
     "output_type": "stream",
     "text": [
      "+----------------------------------------+----------+----------+----------+---------------------+\n",
      "|country                                 |2022      |2023      |2024      |country_total_revenue|\n",
      "+----------------------------------------+----------+----------+----------+---------------------+\n",
      "|United States                           |726,915.08|852,850.05|460,960.80|2,040,725.93         |\n",
      "|Russia                                  |138,281.83|117,301.74|48,994.69 |304,578.26           |\n",
      "|China                                   |65,243.68 |63,639.97 |37,942.62 |166,826.27           |\n",
      "|Iran                                    |48,687.30 |26,738.34 |35,010.02 |110,435.66           |\n",
      "|Japan                                   |46,614.42 |29,969.98 |12,289.32 |88,873.72            |\n",
      "|Ukraine                                 |28,604.17 |42,445.68 |8,714.16  |79,764.01            |\n",
      "|Mexico                                  |23,811.64 |35,499.77 |20,339.58 |79,650.99            |\n",
      "|Kenya                                   |54,128.73 |13,556.81 |11,030.22 |78,715.76            |\n",
      "|Zimbabwe                                |20,376.65 |40,461.79 |15,117.95 |75,956.39            |\n",
      "|Canada                                  |24,533.06 |27,429.50 |16,518.80 |68,481.36            |\n",
      "|Brazil                                  |21,042.98 |28,541.23 |16,127.75 |65,711.96            |\n",
      "|Mali                                    |41,586.78 |15,272.84 |7,155.27  |64,014.89            |\n",
      "|France                                  |29,341.86 |16,109.17 |11,932.67 |57,383.70            |\n",
      "|Sri Lanka                               |15,742.26 |24,029.17 |8,873.38  |48,644.81            |\n",
      "|Sweden                                  |15,578.52 |23,427.31 |9,206.60  |48,212.43            |\n",
      "|Gabon                                   |20,176.00 |12,161.90 |15,391.55 |47,729.45            |\n",
      "|Bhutan                                  |17,054.22 |19,320.80 |8,995.82  |45,370.84            |\n",
      "|Peru                                    |22,881.97 |15,626.73 |6,504.09  |45,012.79            |\n",
      "|South Georgia And South Sandwich Islands|12,926.97 |12,405.16 |18,489.80 |43,821.93            |\n",
      "|Puerto Rico                             |10,246.48 |29,740.57 |2,986.08  |42,973.13            |\n",
      "+----------------------------------------+----------+----------+----------+---------------------+\n",
      "only showing top 20 rows\n",
      "\n"
     ]
    }
   ],
   "source": [
    "# Extract year and quarter, calculate sales\n",
    "quarterly_sales_df = df.withColumn(\"year\", year(col(\"datetime\"))) \\\n",
    "                       .withColumn(\"sales\", col(\"qty\") * col(\"price\")) \\\n",
    "                       .groupBy(\"country\", \"year\") \\\n",
    "                       .agg(round(sum(col(\"sales\")), 2).alias(\"total_sales\"))                        \n",
    "\n",
    "# Pivot the DataFrame\n",
    "pivot_df = quarterly_sales_df.groupBy(\"country\") \\\n",
    "                             .pivot(\"year\") \\\n",
    "                             .sum(\"total_sales\")\n",
    "                             \n",
    "# Join the pivoted DataFrame with the total revenue DataFrame\n",
    "pivot_df = pivot_df.join(total_revenue_per_country, on=\"country\") \\\n",
    "                   .orderBy(col(\"country_total_revenue\").desc())\n",
    "\n",
    "# Format the numbers with comma separators and two decimal places\n",
    "formatted_columns = [format_number(col(c), 2).alias(c) if c != 'country' else col(c) for c in pivot_df.columns]\n",
    "\n",
    "# Select formatted columns\n",
    "formatted_pivot_df = pivot_df.select(formatted_columns)\n",
    "\n",
    "# Show the results\n",
    "formatted_pivot_df.show(truncate=False)"
   ]
  },
  {
   "cell_type": "code",
   "execution_count": 110,
   "metadata": {},
   "outputs": [
    {
     "name": "stderr",
     "output_type": "stream",
     "text": [
      "[Stage 978:>                                                        (0 + 1) / 1]\r"
     ]
    },
    {
     "name": "stdout",
     "output_type": "stream",
     "text": [
      "+----------------------------------------+----------+----------+----------+----------+----------+----------+----------+----------+----------+----------+---------+---------------------+\n",
      "|country                                 |2022 Q1   |2022 Q2   |2022 Q3   |2022 Q4   |2023 Q1   |2023 Q2   |2023 Q3   |2023 Q4   |2024 Q1   |2024 Q2   |2024 Q3  |country_total_revenue|\n",
      "+----------------------------------------+----------+----------+----------+----------+----------+----------+----------+----------+----------+----------+---------+---------------------+\n",
      "|United States                           |142,602.60|194,614.77|166,370.03|223,327.68|184,481.98|193,579.26|262,460.46|212,328.35|195,834.28|188,583.94|76,542.58|2,040,725.93         |\n",
      "|Russia                                  |36,935.89 |44,649.44 |17,704.15 |38,992.35 |23,470.39 |46,986.49 |27,848.33 |18,996.53 |26,926.57 |17,896.27 |4,171.85 |304,578.26           |\n",
      "|China                                   |24,944.98 |12,299.11 |13,495.18 |14,504.41 |21,418.45 |15,217.07 |16,928.28 |10,076.17 |21,455.73 |15,233.75 |1,253.14 |166,826.27           |\n",
      "|Iran                                    |11,978.36 |24,190.71 |4,549.38  |7,968.85  |6,873.54  |5,889.39  |4,111.25  |9,864.16  |13,812.49 |20,195.55 |1,001.98 |110,435.66           |\n",
      "|Japan                                   |9,308.50  |11,887.26 |13,039.58 |12,379.08 |6,530.50  |3,919.61  |14,324.62 |5,195.25  |6,479.61  |5,262.83  |546.88   |88,873.72            |\n",
      "|Ukraine                                 |4,914.21  |10,950.01 |4,388.30  |8,351.65  |12,019.18 |13,149.16 |9,384.32  |7,893.02  |3,557.12  |4,063.17  |1,093.87 |79,764.01            |\n",
      "|Mexico                                  |5,666.98  |11,161.64 |5,121.52  |1,861.50  |2,066.45  |6,910.50  |13,795.43 |12,727.39 |9,568.84  |7,350.85  |3,419.89 |79,650.99            |\n",
      "|Kenya                                   |4,933.66  |11,721.83 |29,972.40 |7,500.84  |3,741.96  |2,407.83  |4,143.67  |3,263.35  |3,301.78  |7,095.90  |632.54   |78,715.76            |\n",
      "|Zimbabwe                                |5,589.05  |7,039.49  |5,854.15  |1,893.96  |6,771.65  |10,239.57 |16,904.51 |6,546.06  |9,080.23  |5,525.58  |512.14   |75,956.39            |\n",
      "|Canada                                  |2,345.01  |6,559.79  |13,147.59 |2,480.67  |5,584.87  |7,018.36  |3,982.82  |10,843.45 |5,001.17  |8,396.07  |3,121.56 |68,481.36            |\n",
      "|Brazil                                  |4,965.23  |4,643.55  |6,898.20  |4,536.00  |8,864.22  |11,577.29 |3,740.21  |4,359.51  |5,712.05  |6,988.00  |3,427.70 |65,711.96            |\n",
      "|Mali                                    |1,613.90  |5,638.25  |33,031.51 |1,303.12  |4,092.55  |6,677.22  |1,907.59  |2,595.48  |4,506.29  |2,191.85  |457.13   |64,014.89            |\n",
      "|France                                  |10,608.26 |12,285.03 |893.69    |5,554.88  |2,518.23  |7,956.21  |4,145.78  |1,488.95  |2,424.87  |1,860.09  |7,647.71 |57,383.70            |\n",
      "|Sri Lanka                               |5,681.77  |3,278.41  |5,040.32  |1,741.76  |6,484.84  |3,105.03  |11,572.06 |2,867.24  |5,888.27  |2,675.62  |309.49   |48,644.81            |\n",
      "|Sweden                                  |4,773.11  |2,832.08  |873.27    |7,100.06  |10,316.72 |1,510.06  |7,330.46  |4,270.07  |838.20    |4,777.41  |3,590.99 |48,212.43            |\n",
      "|Gabon                                   |4,390.86  |2,634.59  |10,667.53 |2,483.02  |2,645.77  |2,704.83  |3,901.60  |2,909.70  |3,677.45  |11,299.10 |415.00   |47,729.45            |\n",
      "|Bhutan                                  |998.08    |3,809.72  |9,282.60  |2,963.82  |4,183.83  |2,505.68  |4,101.37  |8,529.92  |7,288.72  |1,491.16  |215.94   |45,370.84            |\n",
      "|Peru                                    |2,075.93  |7,939.20  |4,846.95  |8,019.89  |2,693.60  |8,524.98  |2,620.74  |1,787.41  |4,595.61  |1,513.20  |395.28   |45,012.79            |\n",
      "|South Georgia And South Sandwich Islands|1,414.74  |3,471.06  |5,646.75  |2,394.42  |2,187.24  |4,098.69  |3,752.98  |2,366.25  |1,814.63  |14,715.57 |1,959.60 |43,821.93            |\n",
      "|Puerto Rico                             |5,340.26  |1,729.38  |1,170.81  |2,006.03  |1,362.65  |18,100.24 |1,873.12  |8,404.56  |894.14    |1,608.13  |483.81   |42,973.13            |\n",
      "+----------------------------------------+----------+----------+----------+----------+----------+----------+----------+----------+----------+----------+---------+---------------------+\n",
      "only showing top 20 rows\n",
      "\n"
     ]
    },
    {
     "name": "stderr",
     "output_type": "stream",
     "text": [
      "                                                                                \r"
     ]
    }
   ],
   "source": [
    "from pyspark.sql.functions import col, quarter, year, sum, round, lit, concat, format_number\n",
    "\n",
    "# Extract year and quarter, calculate sales\n",
    "quarterly_sales_df = df.withColumn(\"year\", year(col(\"datetime\"))) \\\n",
    "                       .withColumn(\"quarter\", quarter(col(\"datetime\"))) \\\n",
    "                       .withColumn(\"sales\", col(\"qty\") * col(\"price\")) \\\n",
    "                       .groupBy(\"country\", \"year\", \"quarter\") \\\n",
    "                       .agg(round(sum(col(\"sales\")), 2).alias(\"total_sales\")) \\\n",
    "                       .withColumn(\"year_quarter\", concat(col(\"year\"), lit(\" Q\"), col(\"quarter\")))\n",
    "\n",
    "# Calculate total sales across all quarters and years per country\n",
    "total_sales_df = quarterly_sales_df.groupBy(\"country\") \\\n",
    "                                   .agg(round(sum(col(\"total_sales\")), 2).alias(\"country_total_revenue\"))\n",
    "\n",
    "# Join the total sales DataFrame with the quarterly sales DataFrame\n",
    "quarterly_sales_with_total_df = quarterly_sales_df.join(total_sales_df, on=\"country\")\n",
    "\n",
    "# Pivot the DataFrame to show quarters by year\n",
    "pivot_df = quarterly_sales_with_total_df.groupBy(\"country\") \\\n",
    "                                        .pivot(\"year_quarter\") \\\n",
    "                                        .sum(\"total_sales\")\n",
    "\n",
    "# Add total sales column to the pivoted DataFrame\n",
    "pivot_df = pivot_df.join(total_sales_df, on=\"country\") \\\n",
    "                   .orderBy(col(\"country_total_revenue\").desc())\n",
    "\n",
    "# Format the numbers with comma separators and two decimal places\n",
    "formatted_columns = [format_number(col(c), 2).alias(c) if c != 'country' else col(c) for c in pivot_df.columns]\n",
    "\n",
    "# Select formatted columns\n",
    "formatted_pivot_df = pivot_df.select(formatted_columns)\n",
    "\n",
    "# Show the results\n",
    "formatted_pivot_df.show(truncate=False)\n"
   ]
  },
  {
   "cell_type": "code",
   "execution_count": null,
   "metadata": {},
   "outputs": [],
   "source": []
  }
 ],
 "metadata": {
  "kernelspec": {
   "display_name": "base",
   "language": "python",
   "name": "python3"
  },
  "language_info": {
   "codemirror_mode": {
    "name": "ipython",
    "version": 3
   },
   "file_extension": ".py",
   "mimetype": "text/x-python",
   "name": "python",
   "nbconvert_exporter": "python",
   "pygments_lexer": "ipython3",
   "version": "3.12.4"
  }
 },
 "nbformat": 4,
 "nbformat_minor": 2
}
